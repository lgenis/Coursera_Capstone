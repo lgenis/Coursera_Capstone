{
    "cells": [
        {
            "cell_type": "markdown",
            "metadata": {},
            "source": "# Coursera Capstone Project\n\n\n## Introduction/Business Problem"
        },
        {
            "cell_type": "markdown",
            "metadata": {},
            "source": "Emergency services all around the world have a limited number of ressources available to respond to any number of situations which might require their intervention.\nAccidents happen in every city and cannot be predicted. They are random events. But fortunately, thanks to advances in statistics, data analysis and computer science, the likelyhood of the events and their root causes can be traced down.\n\n***\n\nThe purpose of this report will be to try and predict which external factors have greater effect on the severity of accidents. Major accidents can strain emergency services blocking all available personel. There is a clear need to know when these events might happen. Urban planners and emergency managers must allocate resources accordingly in these kind of situations.\n\n\nThere are 3 main points of action that this report will try to identify:\n\n\n1. **What are the main external factors driving the severity of accidents?** \n\nWeather, road conditions, junction type, light conditions are all external factors that may or may not influence the likelyhood of an accident. Urban planners and emergency managers need to know which are the most important to enact policies changing the urban environment and allocate ressources by location and expected conditions.\n\n\n2. **Which ones of the external conditionants influence most?** \n\nWeather and light conditions cannot be changed but if they are identified, they may give an edge to emergency services. They may increase temporarily the ammount of resources available, change shift or put more personnel on call.\n\n\n3. **Which urban configurations influence the most?** \n\nRoad conditions, junction type are urban configurations that may be playing a role. Are parked cars increasing the ammount of damage in an accident? If so, urban planners could push for a removal of ground-level parking space for underground parkings and free up space for pedestrians.\n  \n***\n    \nThis report is aimed at city emergency services and urban planners. It will not try to assess the relation between driver condition and severity. Driver condition cannot be predicted beforehand and therefore of no use for accident response or urban planning. That kind of data is out of scope and may be usefull for public information, statistics or concienciation but not the main purpose of this Data Science Project."
        },
        {
            "cell_type": "markdown",
            "metadata": {},
            "source": "## Data"
        },
        {
            "cell_type": "markdown",
            "metadata": {
                "collapsed": true
            },
            "source": "Data to be used for this project is [this](https://s3.us.cloud-object-storage.appdomain.cloud/cf-courses-data/CognitiveClass/DP0701EN/version-2/Data-Collisions.csv) as provided by *Coursera Capstone Project* with metadata description from [here](https://s3.us.cloud-object-storage.appdomain.cloud/cf-courses-data/CognitiveClass/DP0701EN/version-2/Metadata.pdf).\n\n***\n\nThe target or label column will be accident \" severity\". The machine learning model will be able to predict the severity of the accident. This severity is graded as:\n    \n- 3.\u2014fatality\n- 2.b\u2014serious injury\n- 2.\u2014injury\n- 1.\u2014prop damage\n- 0.\u2014unknown\n\nAs we are not interested in predicting \"unknown\" severity, we will remove those cases and set the scale from 1 to 2:\n\n1. Property damage\n2. Injuries\n\n***\n\nIn a first stage we will use the following data to predict outcomes:\n\n- Time: This will be extracted from 'INCDTTM'. Removing the date and leaving only, time of the day.\n- Weather: WEATHER\n- Light Conditions: LIGHTCOND\n- Junction Type: From 'JUNCTIONTYPE' column.\n- Road Conditions: ROADCOND\n- Hit Parked car: HITPARKED CAR.\n\n\nThen the prediction will be separated and influence on the outcome studied from two separate groups:\n\n- External conditions (Emergency Services information):\n    - Time: INCDTTM\n    - Weather: WEATHER\n    - Light Conditions: LIGHTCOND\n    \n    \n- Urban configuration (Urban Planners information):\n    - Junction Type: JUNCTIONTYPE\n    - Road Conditions: ROADCOND\n    - Hit Parked car: HITPARKED CAR"
        },
        {
            "cell_type": "markdown",
            "metadata": {},
            "source": "## Methodology "
        },
        {
            "cell_type": "markdown",
            "metadata": {},
            "source": "Importing libraries and reading data:"
        },
        {
            "cell_type": "code",
            "execution_count": null,
            "metadata": {},
            "outputs": [],
            "source": "import pandas as pd\nimport numpy as np"
        },
        {
            "cell_type": "code",
            "execution_count": null,
            "metadata": {},
            "outputs": [],
            "source": "df_acc=pd.read_csv('https://s3.us.cloud-object-storage.appdomain.cloud/cf-courses-data/CognitiveClass/DP0701EN/version-2/Data-Collisions.csv')"
        },
        {
            "cell_type": "markdown",
            "metadata": {},
            "source": "First we check our database:"
        },
        {
            "cell_type": "code",
            "execution_count": null,
            "metadata": {
                "scrolled": true
            },
            "outputs": [],
            "source": "df_acc.head()"
        },
        {
            "cell_type": "markdown",
            "metadata": {},
            "source": "And we check the columns present:"
        },
        {
            "cell_type": "code",
            "execution_count": null,
            "metadata": {
                "scrolled": true
            },
            "outputs": [],
            "source": "df_acc.columns"
        },
        {
            "cell_type": "markdown",
            "metadata": {},
            "source": "As described in Data section we will focus on a few variables only, so we create a dataframe with those variables:"
        },
        {
            "cell_type": "code",
            "execution_count": null,
            "metadata": {},
            "outputs": [],
            "source": "df_sev=df_acc[[\"SEVERITYCODE\", \"INCDTTM\", \"WEATHER\", \"LIGHTCOND\", \"JUNCTIONTYPE\", \"ROADCOND\", \"HITPARKEDCAR\"]]"
        },
        {
            "cell_type": "code",
            "execution_count": null,
            "metadata": {
                "scrolled": true
            },
            "outputs": [],
            "source": "df_sev.head()"
        },
        {
            "cell_type": "markdown",
            "metadata": {},
            "source": "We want time to be a discrete variable for prediction. So we can check what hours are the most dangerous."
        },
        {
            "cell_type": "code",
            "execution_count": null,
            "metadata": {
                "scrolled": true
            },
            "outputs": [],
            "source": "df_sev[\"INCDTTM\"].head(10)"
        },
        {
            "cell_type": "markdown",
            "metadata": {},
            "source": "Watch out! There are timestamps without time!"
        },
        {
            "cell_type": "code",
            "execution_count": null,
            "metadata": {
                "scrolled": false
            },
            "outputs": [],
            "source": "myseries=pd.to_datetime(df_sev['INCDTTM'], errors='coerce')\ndtidx = pd.DatetimeIndex(myseries)\ndf_sev.index = dtidx\ndf_sev=df_sev.between_time('00:00:01', '23:59:59')"
        },
        {
            "cell_type": "code",
            "execution_count": null,
            "metadata": {
                "scrolled": true
            },
            "outputs": [],
            "source": "df_sev=df_sev.reset_index(drop=True)\ndf_sev.head(10)"
        },
        {
            "cell_type": "markdown",
            "metadata": {},
            "source": " We replace timestamp by hour of day:"
        },
        {
            "cell_type": "code",
            "execution_count": null,
            "metadata": {},
            "outputs": [],
            "source": "myseries=pd.to_datetime(df_sev['INCDTTM'], errors='coerce')\ndf_h={'Hour': myseries.dt.hour}\n\ndf_sev = df_sev.assign(INCDTTM=df_h['Hour'])"
        },
        {
            "cell_type": "code",
            "execution_count": null,
            "metadata": {},
            "outputs": [],
            "source": "df_sev[\"INCDTTM\"].head(10)"
        },
        {
            "cell_type": "markdown",
            "metadata": {},
            "source": "### We check empty values:"
        },
        {
            "cell_type": "code",
            "execution_count": null,
            "metadata": {
                "scrolled": true
            },
            "outputs": [],
            "source": "df_sev.isnull().sum()\n"
        },
        {
            "cell_type": "markdown",
            "metadata": {},
            "source": "All the variables but 'time' and 'hitparkedcar' have missing values. We will drop rows with missing value"
        },
        {
            "cell_type": "code",
            "execution_count": null,
            "metadata": {},
            "outputs": [],
            "source": "#We drop rows with missing values\n# simply drop whole row with NaN in \"price\" column\ndf_sev.dropna(subset=[\"WEATHER\"], axis=0, inplace=True)\ndf_sev.dropna(subset=[\"LIGHTCOND\"], axis=0, inplace=True)\ndf_sev.dropna(subset=[\"JUNCTIONTYPE\"], axis=0, inplace=True)\ndf_sev.dropna(subset=[\"ROADCOND\"], axis=0, inplace=True)\n\n# reset index, because we droped two rows\ndf_sev.reset_index(drop=True, inplace=True)"
        },
        {
            "cell_type": "code",
            "execution_count": null,
            "metadata": {
                "scrolled": true
            },
            "outputs": [],
            "source": "df_sev.describe(include = \"all\")"
        },
        {
            "cell_type": "code",
            "execution_count": null,
            "metadata": {
                "scrolled": false
            },
            "outputs": [],
            "source": "df_sev.isnull().sum()"
        },
        {
            "cell_type": "markdown",
            "metadata": {},
            "source": "### We remove unknowns:"
        },
        {
            "cell_type": "code",
            "execution_count": null,
            "metadata": {},
            "outputs": [],
            "source": "df_sev[\"WEATHER\"].unique()"
        },
        {
            "cell_type": "code",
            "execution_count": null,
            "metadata": {},
            "outputs": [],
            "source": "df_sev[\"LIGHTCOND\"].unique()"
        },
        {
            "cell_type": "code",
            "execution_count": null,
            "metadata": {},
            "outputs": [],
            "source": "df_sev[\"JUNCTIONTYPE\"].unique()"
        },
        {
            "cell_type": "code",
            "execution_count": null,
            "metadata": {
                "scrolled": true
            },
            "outputs": [],
            "source": "df_sev[\"ROADCOND\"].unique()"
        },
        {
            "cell_type": "code",
            "execution_count": null,
            "metadata": {},
            "outputs": [],
            "source": "df_sev[\"HITPARKEDCAR\"].unique()"
        },
        {
            "cell_type": "code",
            "execution_count": null,
            "metadata": {},
            "outputs": [],
            "source": "#We drop rows with unknown nan\n\n# simply drop whole row with NaN in \"price\" column\ndf_sev.replace(\"Unknown\", np.nan, inplace = True)\ndf_sev.replace(\"Other\", np.nan, inplace = True)\ndf_sev.replace(\"nan\", np.nan, inplace = True)\n\ndf_sev.dropna(subset=[\"WEATHER\"], axis=0, inplace=True)\ndf_sev.dropna(subset=[\"LIGHTCOND\"], axis=0, inplace=True)\ndf_sev.dropna(subset=[\"JUNCTIONTYPE\"], axis=0, inplace=True)\ndf_sev.dropna(subset=[\"ROADCOND\"], axis=0, inplace=True)\n\n# reset index, because we droped two rows\ndf_sev.reset_index(drop=True, inplace=True)"
        },
        {
            "cell_type": "code",
            "execution_count": null,
            "metadata": {
                "scrolled": false
            },
            "outputs": [],
            "source": "df_sev.head(10)"
        },
        {
            "cell_type": "markdown",
            "metadata": {},
            "source": "### We group inside variables"
        },
        {
            "cell_type": "markdown",
            "metadata": {},
            "source": "#### First light conditions"
        },
        {
            "cell_type": "code",
            "execution_count": null,
            "metadata": {
                "scrolled": true
            },
            "outputs": [],
            "source": "df_sev.groupby(['LIGHTCOND'])['SEVERITYCODE'].value_counts(normalize=True)"
        },
        {
            "cell_type": "markdown",
            "metadata": {},
            "source": "We group all Dark categories because we consider light conditoins to be an external factor:"
        },
        {
            "cell_type": "code",
            "execution_count": null,
            "metadata": {},
            "outputs": [],
            "source": "df_sev.replace(\"Dark - No Street Lights\", \"Dark\", inplace = True)\ndf_sev.replace(\"Dark - Street Lights Off\", \"Dark\", inplace = True)\ndf_sev.replace(\"Dark - Street Lights On\", \"Dark\", inplace = True)\ndf_sev.replace(\"Dark - Unknown Lighting\", \"Dark\", inplace = True)"
        },
        {
            "cell_type": "code",
            "execution_count": null,
            "metadata": {},
            "outputs": [],
            "source": "df_sev['LIGHTCOND'].unique()"
        },
        {
            "cell_type": "markdown",
            "metadata": {},
            "source": "#### Second weather"
        },
        {
            "cell_type": "code",
            "execution_count": null,
            "metadata": {
                "scrolled": true
            },
            "outputs": [],
            "source": "df_sev.groupby(['WEATHER'])['SEVERITYCODE'].value_counts(normalize=True)"
        },
        {
            "cell_type": "code",
            "execution_count": null,
            "metadata": {},
            "outputs": [],
            "source": "df_sev['WEATHER'].unique()"
        },
        {
            "cell_type": "markdown",
            "metadata": {},
            "source": "We do not change weather\n\n\n#### Third Junction Type"
        },
        {
            "cell_type": "code",
            "execution_count": null,
            "metadata": {
                "scrolled": true
            },
            "outputs": [],
            "source": "df_sev.groupby(['JUNCTIONTYPE'])['SEVERITYCODE'].value_counts(normalize=True)"
        },
        {
            "cell_type": "markdown",
            "metadata": {},
            "source": "We consider that this data is location of reported accident but we want where it happened. So (intersection related) gets converted to Intersection. (not related to intersection) to Mid-Block and Ramp/Driveway Junction we leave it as it is."
        },
        {
            "cell_type": "code",
            "execution_count": null,
            "metadata": {
                "scrolled": false
            },
            "outputs": [],
            "source": "df_sev.replace(\"At Intersection (but not related to intersection)\", \"Mid-Block\", inplace = True)\ndf_sev.replace(\"At Intersection (intersection related)\", \"Intersection\", inplace = True)\ndf_sev.replace(\"Mid-Block (not related to intersection)\", \"Mid-Block\", inplace = True)\ndf_sev.replace(\"Mid-Block (but intersection related)\", \"Intersection\", inplace = True)"
        },
        {
            "cell_type": "code",
            "execution_count": null,
            "metadata": {
                "scrolled": true
            },
            "outputs": [],
            "source": "df_sev.groupby(['JUNCTIONTYPE'])['SEVERITYCODE'].value_counts(normalize=True)"
        },
        {
            "cell_type": "markdown",
            "metadata": {},
            "source": "#### Fourth Road Conditions"
        },
        {
            "cell_type": "code",
            "execution_count": null,
            "metadata": {
                "scrolled": true
            },
            "outputs": [],
            "source": "df_sev.groupby(['ROADCOND'])['SEVERITYCODE'].value_counts(normalize=True)"
        },
        {
            "cell_type": "markdown",
            "metadata": {},
            "source": "We do not change"
        },
        {
            "cell_type": "markdown",
            "metadata": {},
            "source": "### We are going to check some graphics \n\n\nSo we get an idea of what influences the most"
        },
        {
            "cell_type": "code",
            "execution_count": null,
            "metadata": {
                "scrolled": true
            },
            "outputs": [],
            "source": "!conda install -c anaconda seaborn -y"
        },
        {
            "cell_type": "code",
            "execution_count": null,
            "metadata": {},
            "outputs": [],
            "source": "#importing missing libraries\nimport itertools\nimport matplotlib.pyplot as plt\nfrom matplotlib.ticker import NullFormatter\n\nimport matplotlib.ticker as ticker\nfrom sklearn import preprocessing\n%matplotlib inline"
        },
        {
            "cell_type": "code",
            "execution_count": null,
            "metadata": {
                "scrolled": true
            },
            "outputs": [],
            "source": "import seaborn as sns\n\nbins = np.linspace(df_sev.INCDTTM.min(), df_sev.INCDTTM.max(), 24)\ng = sns.FacetGrid(df_sev, col=\"WEATHER\", hue=\"SEVERITYCODE\", palette=\"Set1\", col_wrap=2)\ng.map(plt.hist, 'INCDTTM', bins=bins, ec=\"k\")\n\ng.axes[-1].legend()\nplt.show()"
        },
        {
            "cell_type": "code",
            "execution_count": null,
            "metadata": {
                "scrolled": true
            },
            "outputs": [],
            "source": "bins = np.linspace(df_sev.INCDTTM.min(), df_sev.INCDTTM.max(), 24)\ng = sns.FacetGrid(df_sev, col=\"LIGHTCOND\", hue=\"SEVERITYCODE\", palette=\"Set1\", col_wrap=2)\ng.map(plt.hist, 'INCDTTM', bins=bins, ec=\"k\")\n\ng.axes[-1].legend()\nplt.show()"
        },
        {
            "cell_type": "code",
            "execution_count": null,
            "metadata": {},
            "outputs": [],
            "source": "bins = np.linspace(df_sev.INCDTTM.min(), df_sev.INCDTTM.max(), 24)\ng = sns.FacetGrid(df_sev, col=\"JUNCTIONTYPE\", hue=\"SEVERITYCODE\", palette=\"Set1\", col_wrap=2)\ng.map(plt.hist, 'INCDTTM', bins=bins, ec=\"k\")\n\ng.axes[-1].legend()\nplt.show()"
        },
        {
            "cell_type": "markdown",
            "metadata": {},
            "source": "We can start obtaining some insights from data:\n\n1. Accidents are more severe at Intersections than Ramp junctions\n2. Bad weather increases severity (not number)\n3. Light conditions unconclusive"
        },
        {
            "cell_type": "markdown",
            "metadata": {},
            "source": "### Data is ready.\n\nWe are going to perform some machine learning by selecting **decision tree** evaluation method:"
        },
        {
            "cell_type": "code",
            "execution_count": null,
            "metadata": {},
            "outputs": [],
            "source": "X = df_sev[[\"INCDTTM\", \"WEATHER\", \"LIGHTCOND\", \"JUNCTIONTYPE\", \"ROADCOND\", \"HITPARKEDCAR\"]].values"
        },
        {
            "cell_type": "markdown",
            "metadata": {},
            "source": "some features in this dataset are categorical such as **WEATHER** or **JUNCTIONTYPE**. Unfortunately, Sklearn Decision Trees do not handle categorical variables. But still we can convert these features to numerical values. \nConvert categorical variable into dummy/indicator variables.\n"
        },
        {
            "cell_type": "code",
            "execution_count": null,
            "metadata": {
                "scrolled": true
            },
            "outputs": [],
            "source": "from sklearn import preprocessing\nle_hit = preprocessing.LabelEncoder()\nle_hit.fit(['N','Y'])\nX[:,5] = le_hit.transform(X[:,5]) \n\n\nle_road = preprocessing.LabelEncoder()\nle_road.fit([ 'Wet', 'Dry', 'Unknown', 'Ice', 'Snow/Slush', 'Other',\n       'Sand/Mud/Dirt', 'Standing Water', 'Oil'])\nX[:,4] = le_road.transform(X[:,4])\n\n\nle_junc = preprocessing.LabelEncoder()\nle_junc.fit([ 'Driveway Junction', 'Intersection', 'Mid-Block', 'Ramp Junction'])\nX[:,3] = le_junc.transform(X[:,3]) \n\nle_light = preprocessing.LabelEncoder()\nle_light.fit([ 'Daylight', 'Dark', 'Dusk', 'Dawn'])\nX[:,2] = le_light.transform(X[:,2]) \n\nle_wea = preprocessing.LabelEncoder()\nle_wea.fit([ 'Overcast', 'Raining', 'Clear', 'Snowing', 'Fog/Smog/Smoke',\n       'Sleet/Hail/Freezing Rain', 'Blowing Sand/Dirt',\n       'Severe Crosswind', 'Partly Cloudy'])\nX[:,1] = le_wea.transform(X[:,1]) \n\n\nX[0:5]\n"
        },
        {
            "cell_type": "code",
            "execution_count": null,
            "metadata": {},
            "outputs": [],
            "source": "y=df_sev['SEVERITYCODE']"
        },
        {
            "cell_type": "markdown",
            "metadata": {},
            "source": "### Setting up the Decision Tree"
        },
        {
            "cell_type": "code",
            "execution_count": null,
            "metadata": {},
            "outputs": [],
            "source": "from sklearn.model_selection import train_test_split\nfrom sklearn.tree import DecisionTreeClassifier"
        },
        {
            "cell_type": "code",
            "execution_count": null,
            "metadata": {},
            "outputs": [],
            "source": "X_trainset, X_testset, y_trainset, y_testset = train_test_split(X, y, test_size=0.3, random_state=3)"
        },
        {
            "cell_type": "code",
            "execution_count": null,
            "metadata": {},
            "outputs": [],
            "source": "sevTree = DecisionTreeClassifier(criterion=\"entropy\", max_depth = 4)"
        },
        {
            "cell_type": "code",
            "execution_count": null,
            "metadata": {},
            "outputs": [],
            "source": "sevTree.fit(X_trainset,y_trainset)"
        },
        {
            "cell_type": "code",
            "execution_count": null,
            "metadata": {},
            "outputs": [],
            "source": "predTree = sevTree.predict(X_testset)"
        },
        {
            "cell_type": "code",
            "execution_count": null,
            "metadata": {},
            "outputs": [],
            "source": "print (predTree [0:5])\nprint (y_testset [0:5])"
        },
        {
            "cell_type": "code",
            "execution_count": null,
            "metadata": {},
            "outputs": [],
            "source": "from sklearn import metrics\nimport matplotlib.pyplot as plt\nprint(\"DecisionTrees's Accuracy: \", metrics.accuracy_score(y_testset, predTree))"
        },
        {
            "cell_type": "code",
            "execution_count": null,
            "metadata": {},
            "outputs": [],
            "source": ""
        },
        {
            "cell_type": "code",
            "execution_count": null,
            "metadata": {},
            "outputs": [],
            "source": ""
        },
        {
            "cell_type": "markdown",
            "metadata": {},
            "source": "## Results"
        },
        {
            "cell_type": "markdown",
            "metadata": {},
            "source": "Let's visualize results"
        },
        {
            "cell_type": "code",
            "execution_count": null,
            "metadata": {},
            "outputs": [],
            "source": "# Notice: You might need to uncomment and install the pydotplus and graphviz libraries if you have not installed these before\n!conda install -c conda-forge pydotplus -y\n!conda install -c conda-forge python-graphviz -y"
        },
        {
            "cell_type": "code",
            "execution_count": null,
            "metadata": {
                "scrolled": true
            },
            "outputs": [],
            "source": "from sklearn.externals.six import StringIO\nimport pydotplus\nimport matplotlib.image as mpimg\nfrom sklearn import tree\n%matplotlib inline "
        },
        {
            "cell_type": "code",
            "execution_count": null,
            "metadata": {},
            "outputs": [],
            "source": "dot_data = StringIO()\nfilename = \"sevtree.png\"\nfeatureNames = my_data.columns[0:5]\ntargetNames = my_data[\"SEVERITYCODE\"].unique().tolist()\nout=tree.export_graphviz(sevTree,feature_names=featureNames, out_file=dot_data, class_names= np.unique(y_trainset), filled=True,  special_characters=True,rotate=False)  \ngraph = pydotplus.graph_from_dot_data(dot_data.getvalue())  \ngraph.write_png(filename)\nimg = mpimg.imread(filename)\nplt.figure(figsize=(100, 200))\nplt.imshow(img,interpolation='nearest')"
        },
        {
            "cell_type": "markdown",
            "metadata": {},
            "source": "## Discussion "
        },
        {
            "cell_type": "markdown",
            "metadata": {},
            "source": "As the results show accidents are highly impredictable but some rough predictions can be made:\n    \n- Accidents are more severe at Intersections than Ramp junctions\n- Bad weather increases severity (not number)\n- Light conditions unconclusive\n\nMore insights need to be performed."
        },
        {
            "cell_type": "markdown",
            "metadata": {},
            "source": "## Conclusion "
        },
        {
            "cell_type": "markdown",
            "metadata": {},
            "source": "Severity of accidents are hard to predict and a lot of factors can influence the outcome. Both emergency services and urban planners need some prediction model.\n\nThis model provides an idea of when accidents may be more likely (by time, weather or road conditions) and where (junction type is a major influencer). With this data they can respond more effectively and design junctions, roads more efficiently.\n\nThe model may be used to predict in certain conditions, the seriousness of an accident."
        },
        {
            "cell_type": "code",
            "execution_count": null,
            "metadata": {},
            "outputs": [],
            "source": ""
        }
    ],
    "metadata": {
        "kernelspec": {
            "display_name": "Python 3.6",
            "language": "python",
            "name": "python3"
        },
        "language_info": {
            "codemirror_mode": {
                "name": "ipython",
                "version": 3
            },
            "file_extension": ".py",
            "mimetype": "text/x-python",
            "name": "python",
            "nbconvert_exporter": "python",
            "pygments_lexer": "ipython3",
            "version": "3.6.9"
        }
    },
    "nbformat": 4,
    "nbformat_minor": 1
}