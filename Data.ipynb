{
    "cells": [
        {
            "cell_type": "markdown",
            "metadata": {
                "collapsed": true
            },
            "source": "# Coursera Capstone Project\n\n\n## Data\n"
        },
        {
            "cell_type": "markdown",
            "metadata": {},
            "source": "Data to be used for this project is [this](https://s3.us.cloud-object-storage.appdomain.cloud/cf-courses-data/CognitiveClass/DP0701EN/version-2/Data-Collisions.csv) as provided by *Coursera Capstone Project* with metadata description from [here](https://s3.us.cloud-object-storage.appdomain.cloud/cf-courses-data/CognitiveClass/DP0701EN/version-2/Metadata.pdf).\n\n\nThe target or label column will be accident \" severity\". The machine learning model will be able to predict the severity of the accident. This severity is graded as:\n    \n- 3.\u2014fatality\n- 2.b\u2014serious injury\n- 2.\u2014injury\n- 1.\u2014prop damage\n- 0.\u2014unknown\n\nAs we are not interested in predicting \"unknown\" severity, we will remove those cases and reshuffle the scale from 1 to 4, being 1 the most sever and 4 the least severe:\n\n1. Fatality\n2. Serious Injury\n3. Injury\n4. Property Damage\n\n***\n\nIn a first stage we will use the following data to predict outcomes:\n\n- Time: This will be extracted from 'INCDTTM'. Removing the date and leaving only, time of the day.\n- Weather: WEATHER\n- Light Conditions: LIGHTCOND\n- Junction Type: From 'JUNCTIONTYPE' column.\n- Road Conditions: ROADCOND\n- Hit Parked car: HITPARKED CAR.\n\n\nThen the prediction will be separated and influence on the outcome studied from two separate groups:\n\n- External conditions (Emergency Services information):\n    - Time: INCDTTM\n    - Weather: WEATHER\n    - Light Conditions: LIGHTCOND\n    \n    \n- Urban configuration (Urban Planners information):\n    - Junction Type: JUNCTIONTYPE\n    - Road Conditions: ROADCOND\n    - Hit Parked car: HITPARKED CAR"
        },
        {
            "cell_type": "code",
            "execution_count": null,
            "metadata": {},
            "outputs": [],
            "source": ""
        }
    ],
    "metadata": {
        "kernelspec": {
            "display_name": "Python 3.6",
            "language": "python",
            "name": "python3"
        },
        "language_info": {
            "codemirror_mode": {
                "name": "ipython",
                "version": 3
            },
            "file_extension": ".py",
            "mimetype": "text/x-python",
            "name": "python",
            "nbconvert_exporter": "python",
            "pygments_lexer": "ipython3",
            "version": "3.6.9"
        }
    },
    "nbformat": 4,
    "nbformat_minor": 1
}