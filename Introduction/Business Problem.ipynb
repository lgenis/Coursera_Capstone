{
    "cells": [
        {
            "cell_type": "markdown",
            "metadata": {
                "collapsed": true
            },
            "source": "# Coursera Capstone Project\n## Introduction/Business Problem"
        },
        {
            "cell_type": "markdown",
            "metadata": {},
            "source": "Emergency services all around the world have a limited number of ressources available to respond to any number of situations which might require their intervention.\nAccidents happen in every city and cannot be predicted. They are random events. But fortunately, thanks to advances in statistics, data analysis and computer science, the likelyhood of the events and their root causes can be traced down.\n\n***\n\nThe purpose of this report will be to try and predict which external factors have greater effect on the severity of accidents. Major accidents can strain emergency services blocking all available personel. There is a clear need to know when these events might happen. Urban planners and emergency managers must allocate resources accordingly in these kind of situations.\n\n\nThere are 3 main points of action that this report will try to identify:\n\n\n1. **What are the main external factors driving the severity of accidents?** \n\nWeather, road conditions, junction type, light conditions are all external factors that may or may not influence the likelyhood of an accident. Urban planners and emergency managers need to know which are the most important to enact policies changing the urban environment and allocate ressources by location and expected conditions.\n\n\n2. **Which ones of the external conditionants influence most?** \n\nWeather and light conditions cannot be changed but if they are identified, they may give an edge to emergency services. They may increase temporarily the ammount of resources available, change shift or put more personnel on call.\n\n\n3. **Which urban configurations influence the most?** \n\nRoad conditions, junction type are urban configurations that may be playing a role. Are parked cars increasing the ammount of damage in an accident? If so, urban planners could push for a removal of ground-level parking space for underground parkings and free up space for pedestrians.\n  \n***\n    \nThis report is aimed at city emergency services and urban planners. It will not try to assess the relation between driver condition and severity. Driver condition cannot be predicted beforehand and therefore of no use for accident response or urban planning. That kind of data is out of scope and may be usefull for public information, statistics or concienciation but not the main purpose of this Data Science Project."
        },
        {
            "cell_type": "code",
            "execution_count": null,
            "metadata": {},
            "outputs": [],
            "source": ""
        }
    ],
    "metadata": {
        "kernelspec": {
            "display_name": "Python 3.6",
            "language": "python",
            "name": "python3"
        },
        "language_info": {
            "codemirror_mode": {
                "name": "ipython",
                "version": 3
            },
            "file_extension": ".py",
            "mimetype": "text/x-python",
            "name": "python",
            "nbconvert_exporter": "python",
            "pygments_lexer": "ipython3",
            "version": "3.6.9"
        }
    },
    "nbformat": 4,
    "nbformat_minor": 1
}